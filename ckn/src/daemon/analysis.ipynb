{
 "cells": [
  {
   "cell_type": "code",
   "id": "initial_id",
   "metadata": {
    "collapsed": true,
    "ExecuteTime": {
     "end_time": "2024-09-24T01:47:01.728595Z",
     "start_time": "2024-09-24T01:47:01.695054Z"
    }
   },
   "source": [
    "import matplotlib.pyplot as plt\n",
    "import pandas as pd\n",
    "\n",
    "results = pd.read_csv('/Users/neeleshkarthikeyan/d2i/ckn-edge/ckn/src/daemon/QoE_predictive.csv')\n",
    "results.columns = ['server_id', 'service_id', 'client_id', 'prediction', 'compute_time', 'pred_accuracy', 'total_qoe', 'accuracy_qoe', 'delay_qoe', 'req_acc', 'req_delay', 'model', 'added_time', 'timestamp', 'accuracy']\n",
    "results.head()"
   ],
   "outputs": [
    {
     "data": {
      "text/plain": [
       "  server_id                     service_id client_id       prediction  \\\n",
       "0    EDGE-1  imagenet_image_classification   raspi-2  Norwich terrier   \n",
       "1    EDGE-1  imagenet_image_classification   raspi-3         Pembroke   \n",
       "2    EDGE-1  imagenet_image_classification   raspi-4            tabby   \n",
       "3    EDGE-1  imagenet_image_classification   raspi-5        tiger cat   \n",
       "4    EDGE-1  imagenet_image_classification   raspi-1     Egyptian cat   \n",
       "\n",
       "   compute_time  pred_accuracy  total_qoe  accuracy_qoe  delay_qoe  req_acc  \\\n",
       "0      0.150722       0.123912   0.187903      0.176765   0.199042    0.701   \n",
       "1      1.018403       0.207339   0.182314      0.344990   0.019639    0.601   \n",
       "2      0.093140       0.420328   0.487284      0.845730   0.128838    0.497   \n",
       "3      0.853168       0.402559   0.275672      0.504460   0.046884    0.798   \n",
       "4      0.318873       0.240982   0.221890      0.283842   0.159938    0.849   \n",
       "\n",
       "   req_delay                                 model           added_time  \\\n",
       "0      0.030  550e8400-e29b-41d4-a716-446655440001  03-04-2023 15:14:05   \n",
       "1      0.020  550e8400-e29b-41d4-a716-446655440002  03-04-2023 15:15:05   \n",
       "2      0.012  550e8400-e29b-41d4-a716-446655440003  03-04-2023 15:16:05   \n",
       "3      0.040  550e8400-e29b-41d4-a716-446655440004  03-04-2023 15:17:05   \n",
       "4      0.051  550e8400-e29b-41d4-a716-446655440005  03-04-2023 15:18:05   \n",
       "\n",
       "                 timestamp  accuracy  \n",
       "0  2024-09-23 21:15:41.230         0  \n",
       "1  2024-09-23 21:15:51.085         0  \n",
       "2  2024-09-23 21:15:58.744         0  \n",
       "3  2024-09-23 21:16:08.932         0  \n",
       "4  2024-09-23 21:16:16.864         0  "
      ],
      "text/html": [
       "<div>\n",
       "<style scoped>\n",
       "    .dataframe tbody tr th:only-of-type {\n",
       "        vertical-align: middle;\n",
       "    }\n",
       "\n",
       "    .dataframe tbody tr th {\n",
       "        vertical-align: top;\n",
       "    }\n",
       "\n",
       "    .dataframe thead th {\n",
       "        text-align: right;\n",
       "    }\n",
       "</style>\n",
       "<table border=\"1\" class=\"dataframe\">\n",
       "  <thead>\n",
       "    <tr style=\"text-align: right;\">\n",
       "      <th></th>\n",
       "      <th>server_id</th>\n",
       "      <th>service_id</th>\n",
       "      <th>client_id</th>\n",
       "      <th>prediction</th>\n",
       "      <th>compute_time</th>\n",
       "      <th>pred_accuracy</th>\n",
       "      <th>total_qoe</th>\n",
       "      <th>accuracy_qoe</th>\n",
       "      <th>delay_qoe</th>\n",
       "      <th>req_acc</th>\n",
       "      <th>req_delay</th>\n",
       "      <th>model</th>\n",
       "      <th>added_time</th>\n",
       "      <th>timestamp</th>\n",
       "      <th>accuracy</th>\n",
       "    </tr>\n",
       "  </thead>\n",
       "  <tbody>\n",
       "    <tr>\n",
       "      <th>0</th>\n",
       "      <td>EDGE-1</td>\n",
       "      <td>imagenet_image_classification</td>\n",
       "      <td>raspi-2</td>\n",
       "      <td>Norwich terrier</td>\n",
       "      <td>0.150722</td>\n",
       "      <td>0.123912</td>\n",
       "      <td>0.187903</td>\n",
       "      <td>0.176765</td>\n",
       "      <td>0.199042</td>\n",
       "      <td>0.701</td>\n",
       "      <td>0.030</td>\n",
       "      <td>550e8400-e29b-41d4-a716-446655440001</td>\n",
       "      <td>03-04-2023 15:14:05</td>\n",
       "      <td>2024-09-23 21:15:41.230</td>\n",
       "      <td>0</td>\n",
       "    </tr>\n",
       "    <tr>\n",
       "      <th>1</th>\n",
       "      <td>EDGE-1</td>\n",
       "      <td>imagenet_image_classification</td>\n",
       "      <td>raspi-3</td>\n",
       "      <td>Pembroke</td>\n",
       "      <td>1.018403</td>\n",
       "      <td>0.207339</td>\n",
       "      <td>0.182314</td>\n",
       "      <td>0.344990</td>\n",
       "      <td>0.019639</td>\n",
       "      <td>0.601</td>\n",
       "      <td>0.020</td>\n",
       "      <td>550e8400-e29b-41d4-a716-446655440002</td>\n",
       "      <td>03-04-2023 15:15:05</td>\n",
       "      <td>2024-09-23 21:15:51.085</td>\n",
       "      <td>0</td>\n",
       "    </tr>\n",
       "    <tr>\n",
       "      <th>2</th>\n",
       "      <td>EDGE-1</td>\n",
       "      <td>imagenet_image_classification</td>\n",
       "      <td>raspi-4</td>\n",
       "      <td>tabby</td>\n",
       "      <td>0.093140</td>\n",
       "      <td>0.420328</td>\n",
       "      <td>0.487284</td>\n",
       "      <td>0.845730</td>\n",
       "      <td>0.128838</td>\n",
       "      <td>0.497</td>\n",
       "      <td>0.012</td>\n",
       "      <td>550e8400-e29b-41d4-a716-446655440003</td>\n",
       "      <td>03-04-2023 15:16:05</td>\n",
       "      <td>2024-09-23 21:15:58.744</td>\n",
       "      <td>0</td>\n",
       "    </tr>\n",
       "    <tr>\n",
       "      <th>3</th>\n",
       "      <td>EDGE-1</td>\n",
       "      <td>imagenet_image_classification</td>\n",
       "      <td>raspi-5</td>\n",
       "      <td>tiger cat</td>\n",
       "      <td>0.853168</td>\n",
       "      <td>0.402559</td>\n",
       "      <td>0.275672</td>\n",
       "      <td>0.504460</td>\n",
       "      <td>0.046884</td>\n",
       "      <td>0.798</td>\n",
       "      <td>0.040</td>\n",
       "      <td>550e8400-e29b-41d4-a716-446655440004</td>\n",
       "      <td>03-04-2023 15:17:05</td>\n",
       "      <td>2024-09-23 21:16:08.932</td>\n",
       "      <td>0</td>\n",
       "    </tr>\n",
       "    <tr>\n",
       "      <th>4</th>\n",
       "      <td>EDGE-1</td>\n",
       "      <td>imagenet_image_classification</td>\n",
       "      <td>raspi-1</td>\n",
       "      <td>Egyptian cat</td>\n",
       "      <td>0.318873</td>\n",
       "      <td>0.240982</td>\n",
       "      <td>0.221890</td>\n",
       "      <td>0.283842</td>\n",
       "      <td>0.159938</td>\n",
       "      <td>0.849</td>\n",
       "      <td>0.051</td>\n",
       "      <td>550e8400-e29b-41d4-a716-446655440005</td>\n",
       "      <td>03-04-2023 15:18:05</td>\n",
       "      <td>2024-09-23 21:16:16.864</td>\n",
       "      <td>0</td>\n",
       "    </tr>\n",
       "  </tbody>\n",
       "</table>\n",
       "</div>"
      ]
     },
     "execution_count": 31,
     "metadata": {},
     "output_type": "execute_result"
    }
   ],
   "execution_count": 31
  },
  {
   "metadata": {
    "ExecuteTime": {
     "end_time": "2024-09-24T01:52:08.569248Z",
     "start_time": "2024-09-24T01:52:08.436351Z"
    }
   },
   "cell_type": "code",
   "source": "%matplotlib agg  # If running in a Jupyter notebook\n",
   "id": "f85b5c4c5c06570d",
   "outputs": [
    {
     "ename": "ValueError",
     "evalue": "Key backend: 'module://matplotlib_inline.backend_inline' is not a valid value for backend; supported values are ['gtk3agg', 'gtk3cairo', 'gtk4agg', 'gtk4cairo', 'macosx', 'nbagg', 'notebook', 'qtagg', 'qtcairo', 'qt5agg', 'qt5cairo', 'tkagg', 'tkcairo', 'webagg', 'wx', 'wxagg', 'wxcairo', 'agg', 'cairo', 'pdf', 'pgf', 'ps', 'svg', 'template']",
     "output_type": "error",
     "traceback": [
      "\u001B[0;31m---------------------------------------------------------------------------\u001B[0m",
      "\u001B[0;31mValueError\u001B[0m                                Traceback (most recent call last)",
      "Cell \u001B[0;32mIn[40], line 1\u001B[0m\n\u001B[0;32m----> 1\u001B[0m \u001B[38;5;28;01mimport\u001B[39;00m \u001B[38;5;21;01mmatplotlib\u001B[39;00m\n\u001B[1;32m      2\u001B[0m matplotlib\u001B[38;5;241m.\u001B[39muse(\u001B[38;5;124m'\u001B[39m\u001B[38;5;124magg\u001B[39m\u001B[38;5;124m'\u001B[39m)  \u001B[38;5;66;03m# Use a non-interactive backend\u001B[39;00m\n\u001B[1;32m      4\u001B[0m \u001B[38;5;28;01mimport\u001B[39;00m \u001B[38;5;21;01mmatplotlib\u001B[39;00m\u001B[38;5;21;01m.\u001B[39;00m\u001B[38;5;21;01mpyplot\u001B[39;00m \u001B[38;5;28;01mas\u001B[39;00m \u001B[38;5;21;01mplt\u001B[39;00m\n",
      "File \u001B[0;32m~/d2i/ckn-edge/.venv/lib/python3.9/site-packages/matplotlib/__init__.py:1270\u001B[0m\n\u001B[1;32m   1266\u001B[0m     rcParams[\u001B[38;5;124m'\u001B[39m\u001B[38;5;124mbackend_fallback\u001B[39m\u001B[38;5;124m'\u001B[39m] \u001B[38;5;241m=\u001B[39m \u001B[38;5;28;01mFalse\u001B[39;00m\n\u001B[1;32m   1269\u001B[0m \u001B[38;5;28;01mif\u001B[39;00m os\u001B[38;5;241m.\u001B[39menviron\u001B[38;5;241m.\u001B[39mget(\u001B[38;5;124m'\u001B[39m\u001B[38;5;124mMPLBACKEND\u001B[39m\u001B[38;5;124m'\u001B[39m):\n\u001B[0;32m-> 1270\u001B[0m     \u001B[43mrcParams\u001B[49m\u001B[43m[\u001B[49m\u001B[38;5;124;43m'\u001B[39;49m\u001B[38;5;124;43mbackend\u001B[39;49m\u001B[38;5;124;43m'\u001B[39;49m\u001B[43m]\u001B[49m \u001B[38;5;241m=\u001B[39m os\u001B[38;5;241m.\u001B[39menviron\u001B[38;5;241m.\u001B[39mget(\u001B[38;5;124m'\u001B[39m\u001B[38;5;124mMPLBACKEND\u001B[39m\u001B[38;5;124m'\u001B[39m)\n\u001B[1;32m   1273\u001B[0m \u001B[38;5;28;01mdef\u001B[39;00m \u001B[38;5;21mget_backend\u001B[39m():\n\u001B[1;32m   1274\u001B[0m \u001B[38;5;250m    \u001B[39m\u001B[38;5;124;03m\"\"\"\u001B[39;00m\n\u001B[1;32m   1275\u001B[0m \u001B[38;5;124;03m    Return the name of the current backend.\u001B[39;00m\n\u001B[1;32m   1276\u001B[0m \n\u001B[0;32m   (...)\u001B[0m\n\u001B[1;32m   1279\u001B[0m \u001B[38;5;124;03m    matplotlib.use\u001B[39;00m\n\u001B[1;32m   1280\u001B[0m \u001B[38;5;124;03m    \"\"\"\u001B[39;00m\n",
      "File \u001B[0;32m~/d2i/ckn-edge/.venv/lib/python3.9/site-packages/matplotlib/__init__.py:738\u001B[0m, in \u001B[0;36mRcParams.__setitem__\u001B[0;34m(self, key, val)\u001B[0m\n\u001B[1;32m    736\u001B[0m         cval \u001B[38;5;241m=\u001B[39m \u001B[38;5;28mself\u001B[39m\u001B[38;5;241m.\u001B[39mvalidate[key](val)\n\u001B[1;32m    737\u001B[0m     \u001B[38;5;28;01mexcept\u001B[39;00m \u001B[38;5;167;01mValueError\u001B[39;00m \u001B[38;5;28;01mas\u001B[39;00m ve:\n\u001B[0;32m--> 738\u001B[0m         \u001B[38;5;28;01mraise\u001B[39;00m \u001B[38;5;167;01mValueError\u001B[39;00m(\u001B[38;5;124mf\u001B[39m\u001B[38;5;124m\"\u001B[39m\u001B[38;5;124mKey \u001B[39m\u001B[38;5;132;01m{\u001B[39;00mkey\u001B[38;5;132;01m}\u001B[39;00m\u001B[38;5;124m: \u001B[39m\u001B[38;5;132;01m{\u001B[39;00mve\u001B[38;5;132;01m}\u001B[39;00m\u001B[38;5;124m\"\u001B[39m) \u001B[38;5;28;01mfrom\u001B[39;00m \u001B[38;5;28;01mNone\u001B[39;00m\n\u001B[1;32m    739\u001B[0m     \u001B[38;5;28mself\u001B[39m\u001B[38;5;241m.\u001B[39m_set(key, cval)\n\u001B[1;32m    740\u001B[0m \u001B[38;5;28;01mexcept\u001B[39;00m \u001B[38;5;167;01mKeyError\u001B[39;00m \u001B[38;5;28;01mas\u001B[39;00m err:\n",
      "\u001B[0;31mValueError\u001B[0m: Key backend: 'module://matplotlib_inline.backend_inline' is not a valid value for backend; supported values are ['gtk3agg', 'gtk3cairo', 'gtk4agg', 'gtk4cairo', 'macosx', 'nbagg', 'notebook', 'qtagg', 'qtcairo', 'qt5agg', 'qt5cairo', 'tkagg', 'tkcairo', 'webagg', 'wx', 'wxagg', 'wxcairo', 'agg', 'cairo', 'pdf', 'pgf', 'ps', 'svg', 'template']"
     ]
    }
   ],
   "execution_count": 40
  },
  {
   "metadata": {},
   "cell_type": "code",
   "outputs": [],
   "source": "",
   "id": "f47e46d109391074",
   "execution_count": null
  },
  {
   "metadata": {
    "ExecuteTime": {
     "end_time": "2024-09-24T01:45:09.368303Z",
     "start_time": "2024-09-24T01:45:09.359171Z"
    }
   },
   "cell_type": "code",
   "source": [
    "model_mapping = {\n",
    "    \"550e8400-e29b-41d4-a716-446655440000\": \"resnet152\",\n",
    "    \"550e8400-e29b-41d4-a716-446655440001\": \"shufflenet_v2_x0_5\",\n",
    "    \"550e8400-e29b-41d4-a716-446655440002\": \"densenet201\",\n",
    "    \"550e8400-e29b-41d4-a716-446655440003\": \"mobilenet_v3_small\",\n",
    "    \"550e8400-e29b-41d4-a716-446655440004\": \"resnext50_32x4d\",\n",
    "    \"550e8400-e29b-41d4-a716-446655440005\": \"googlenet\"\n",
    "}\n",
    "\n",
    "model_count = results['model'].value_counts()\n",
    "model_count = model_count.rename(index=model_mapping)\n",
    "model_count"
   ],
   "id": "fd886a22b15098f0",
   "outputs": [
    {
     "data": {
      "text/plain": [
       "model\n",
       "googlenet             976\n",
       "resnext50_32x4d       508\n",
       "resnet152             283\n",
       "shufflenet_v2_x0_5    194\n",
       "densenet201             2\n",
       "mobilenet_v3_small      2\n",
       "Name: count, dtype: int64"
      ]
     },
     "execution_count": 26,
     "metadata": {},
     "output_type": "execute_result"
    }
   ],
   "execution_count": 26
  },
  {
   "metadata": {},
   "cell_type": "code",
   "outputs": [],
   "execution_count": null,
   "source": "",
   "id": "18935860680116d1"
  }
 ],
 "metadata": {
  "kernelspec": {
   "display_name": "Python 3",
   "language": "python",
   "name": "python3"
  },
  "language_info": {
   "codemirror_mode": {
    "name": "ipython",
    "version": 2
   },
   "file_extension": ".py",
   "mimetype": "text/x-python",
   "name": "python",
   "nbconvert_exporter": "python",
   "pygments_lexer": "ipython2",
   "version": "2.7.6"
  }
 },
 "nbformat": 4,
 "nbformat_minor": 5
}
